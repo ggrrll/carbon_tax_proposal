{
 "cells": [
  {
   "cell_type": "markdown",
   "metadata": {
    "toc": true
   },
   "source": [
    "<h1>Table of Contents<span class=\"tocSkip\"></span></h1>\n",
    "<div class=\"toc\"><ul class=\"toc-item\"><li><span><a href=\"#demograhpy\" data-toc-modified-id=\"demograhpy-1\">demograhpy</a></span></li><li><span><a href=\"#paybacks\" data-toc-modified-id=\"paybacks-2\">paybacks</a></span><ul class=\"toc-item\"><li><span><a href=\"#ECA\" data-toc-modified-id=\"ECA-2.1\">ECA</a></span></li><li><span><a href=\"#SERAFE\" data-toc-modified-id=\"SERAFE-2.2\">SERAFE</a></span></li></ul></li><li><span><a href=\"#tax-incomes\" data-toc-modified-id=\"tax-incomes-3\">tax incomes</a></span><ul class=\"toc-item\"><li><span><a href=\"#cars_fuels\" data-toc-modified-id=\"cars_fuels-3.1\">cars_fuels</a></span></li><li><span><a href=\"#circulation\" data-toc-modified-id=\"circulation-3.2\">circulation</a></span></li><li><span><a href=\"#computation-of-tax\" data-toc-modified-id=\"computation-of-tax-3.3\">computation of tax</a></span></li></ul></li></ul></div>"
   ]
  },
  {
   "cell_type": "code",
   "execution_count": 1,
   "metadata": {},
   "outputs": [
    {
     "name": "stderr",
     "output_type": "stream",
     "text": [
      "/Library/Frameworks/Python.framework/Versions/3.7/lib/python3.7/site-packages/statsmodels/tools/_testing.py:19: FutureWarning: pandas.util.testing is deprecated. Use the functions in the public API at pandas.testing instead.\n",
      "  import pandas.util.testing as tm\n"
     ]
    }
   ],
   "source": [
    "# modules for plotting\n",
    "import matplotlib.pyplot as plt\n",
    "%matplotlib inline\n",
    "\n",
    "import seaborn as sns\n",
    "sns.set_context('notebook')\n",
    "%config InlineBackend.figure_format = 'retina'\n",
    "\n",
    "# module to save space\n",
    "import gc\n",
    "\n",
    "import numpy as np"
   ]
  },
  {
   "cell_type": "markdown",
   "metadata": {},
   "source": [
    "As we start from *Switzerland*, and in particular canton **Vaud** as case study > all costs are in  **CHF/year**"
   ]
  },
  {
   "cell_type": "markdown",
   "metadata": {},
   "source": [
    "Also, instead of start thinking from how to _get_ money, we think how to give back the tax first"
   ]
  },
  {
   "cell_type": "markdown",
   "metadata": {
    "heading_collapsed": true
   },
   "source": [
    "# demograhpy   "
   ]
  },
  {
   "cell_type": "markdown",
   "metadata": {
    "hidden": true
   },
   "source": [
    "basic demographic data, relevant for our case study (Switzerland)\n",
    "\n",
    "(these N are a taken just as a starting point -- relative to past statistics) -- sources:\n",
    "\n",
    "\n",
    "[population total](https://www.atlas.bfs.admin.ch/maps/13/fr/14459_72_71_70/23029.html)   \n",
    "[households N](http://www.scris.vd.ch/Data_Dir/ElementsDir/8235/2/F/Portraits-des-familles.pdf)"
   ]
  },
  {
   "cell_type": "code",
   "execution_count": 2,
   "metadata": {
    "hidden": true
   },
   "outputs": [],
   "source": [
    "pop_vaud_2019 = 799145\n",
    "\n",
    "households_vaud_2013 = 323064"
   ]
  },
  {
   "cell_type": "markdown",
   "metadata": {
    "heading_collapsed": true
   },
   "source": [
    "# paybacks"
   ]
  },
  {
   "cell_type": "markdown",
   "metadata": {
    "hidden": true
   },
   "source": [
    "we need to return that money immediately to citizen, to \n",
    "- build trust in the carbon reform \n",
    "- create a sustainable reform"
   ]
  },
  {
   "cell_type": "markdown",
   "metadata": {
    "hidden": true
   },
   "source": [
    "the first principle here is avoid at the beginning too large differences between residents, in particular among those ones living in countryside/city, where there is low/high public transport frequency \n",
    "\n",
    "Therefore, here the idea is to start payback on tax/public services that everybody needs (both in villages and cities)"
   ]
  },
  {
   "cell_type": "markdown",
   "metadata": {
    "heading_collapsed": true,
    "hidden": true
   },
   "source": [
    "## ECA"
   ]
  },
  {
   "cell_type": "markdown",
   "metadata": {
    "hidden": true
   },
   "source": [
    "Given the increasing evidence of the relation between *pollution > increase frequency of sever weather events*, it makes sense that costs from natural disasters are payed more and more by who pollutes\n",
    "\n",
    "in canton **Vaud**: one idea would be to stop paying the basic fee for the [ECA](https://www.eca-vaud.ch)   \n",
    "(the public intervention service/insurance against natural disasters)"
   ]
  },
  {
   "cell_type": "code",
   "execution_count": 3,
   "metadata": {
    "hidden": true
   },
   "outputs": [
    {
     "data": {
      "text/plain": [
       "6461280"
      ]
     },
     "execution_count": 3,
     "metadata": {},
     "output_type": "execute_result"
    }
   ],
   "source": [
    "eca_basic_fee = 20\n",
    "\n",
    "eca_basic_tot = eca_basic_fee * households_vaud_2013\n",
    "eca_basic_tot"
   ]
  },
  {
   "cell_type": "markdown",
   "metadata": {
    "heading_collapsed": true,
    "hidden": true
   },
   "source": [
    "## SERAFE"
   ]
  },
  {
   "cell_type": "markdown",
   "metadata": {
    "hidden": true
   },
   "source": [
    "it might seems counter-intuitive, but paying the public news/radio-TV services might be also interesting, as this is a tax _every household_ has to pay, no matter where you live (city/countriside)"
   ]
  },
  {
   "cell_type": "code",
   "execution_count": 4,
   "metadata": {
    "hidden": true
   },
   "outputs": [
    {
     "data": {
      "text/plain": [
       "117918360"
      ]
     },
     "execution_count": 4,
     "metadata": {},
     "output_type": "execute_result"
    }
   ],
   "source": [
    "serafe_fee = 365\n",
    "\n",
    "serafe_tot = serafe_fee * households_vaud_2013\n",
    "serafe_tot"
   ]
  },
  {
   "cell_type": "markdown",
   "metadata": {},
   "source": [
    "# tax incomes"
   ]
  },
  {
   "cell_type": "markdown",
   "metadata": {},
   "source": [
    "the general idea is to tax fossil fuels usage"
   ]
  },
  {
   "cell_type": "markdown",
   "metadata": {},
   "source": [
    "statistics on mobility: \n",
    "(mind that in EN sometimes you don't find everything - better in FR/DE)\n",
    "\n",
    "https://www.bfs.admin.ch/bfs/fr/home/statistiques/mobilite-transports.html \n",
    "\n",
    "\n",
    "[average daily road traffic](https://www.bfs.admin.ch/bfs/fr/home/statistiques/mobilite-transports/infrastructures-transport-vehicules/comptage-suisse-circulation-route.html)\n",
    "\n",
    "[costs-funding](https://www.bfs.admin.ch/bfs/en/home/statistics/mobility-transport/costs-funding.html)\n",
    "\n",
    "[N vehicles](https://www.bfs.admin.ch/bfs/fr/home/statistiques/mobilite-transports/infrastructures-transport-vehicules/vehicules/vehicules-routiers-parc-taux-motorisation.html)\n",
    "\n",
    "again, we consider only data for canton VAUD"
   ]
  },
  {
   "cell_type": "markdown",
   "metadata": {
    "heading_collapsed": true
   },
   "source": [
    "## cars_fuels"
   ]
  },
  {
   "cell_type": "markdown",
   "metadata": {
    "hidden": true
   },
   "source": [
    "[petrol data](https://www.globalpetrolprices.com/Switzerland/gasoline_prices/)"
   ]
  },
  {
   "cell_type": "code",
   "execution_count": 6,
   "metadata": {
    "hidden": true
   },
   "outputs": [],
   "source": [
    "# gasoline_per_litre = 1.4 \n",
    "\n",
    "n_cars_vaud = 416941 \n",
    "n_electric = 2298 "
   ]
  },
  {
   "cell_type": "markdown",
   "metadata": {
    "hidden": true
   },
   "source": [
    "from this stats > [av. cost per vehicle](https://www.bfs.admin.ch/bfs/fr/home/statistiques/mobilite-transports/couts-financement/route-mobilite-douce.html)"
   ]
  },
  {
   "cell_type": "code",
   "execution_count": 9,
   "metadata": {
    "hidden": true
   },
   "outputs": [
    {
     "data": {
      "text/plain": [
       "12700.0"
      ]
     },
     "execution_count": 9,
     "metadata": {},
     "output_type": "execute_result"
    }
   ],
   "source": [
    "## all are YEARLY averaged estimates -- by the OFSP\n",
    "\n",
    "cost_vehicle = 7620 # av. annual cost / vehi. \n",
    "cost_vehicle_km = 0.6 # av. annual cost / (vehi.*km) \n",
    "km_per_vehicle = cost_vehicle / cost_vehicle_km\n",
    "km_per_vehicle"
   ]
  },
  {
   "cell_type": "markdown",
   "metadata": {
    "hidden": true
   },
   "source": [
    "[cars efficiency in CH](https://www.eltis.org/discover/case-studies/energy-consumption-label-passenger-cars-switzerland)\n",
    "\n",
    "to play safe, we consider 6 l/100km – better to underestimate incomes, than over- :D"
   ]
  },
  {
   "cell_type": "code",
   "execution_count": 11,
   "metadata": {
    "hidden": true
   },
   "outputs": [],
   "source": [
    "litres_km = 0.06"
   ]
  },
  {
   "cell_type": "markdown",
   "metadata": {
    "hidden": true
   },
   "source": [
    "(for the time being we don't need this fun, as the problem is linear)"
   ]
  },
  {
   "cell_type": "code",
   "execution_count": 7,
   "metadata": {
    "deletable": false,
    "editable": false,
    "hidden": true,
    "run_control": {
     "frozen": true
    }
   },
   "outputs": [],
   "source": [
    "def fuel_tax_tot(tax_per_litre):\n",
    "    \n",
    "    '''\n",
    "    enter tax in CHF -- for now \n",
    "    '''\n",
    "    return tax_per_litre * litres_km * km_per_vehicle * (n_cars_vaud - n_electric)"
   ]
  },
  {
   "cell_type": "markdown",
   "metadata": {
    "heading_collapsed": true
   },
   "source": [
    "## circulation"
   ]
  },
  {
   "cell_type": "markdown",
   "metadata": {
    "hidden": true
   },
   "source": [
    "(for the time being we don't need this fun, as the problem is linear)"
   ]
  },
  {
   "cell_type": "code",
   "execution_count": 31,
   "metadata": {
    "deletable": false,
    "editable": false,
    "hidden": true,
    "run_control": {
     "frozen": true
    }
   },
   "outputs": [],
   "source": [
    "def circ_tax_tot(circ_tax):\n",
    "    \n",
    "    return n_cars_vaud * circ_tax"
   ]
  },
  {
   "cell_type": "markdown",
   "metadata": {},
   "source": [
    "## computation of tax"
   ]
  },
  {
   "cell_type": "markdown",
   "metadata": {},
   "source": [
    "for the time being, we can keep it to a simple linear problem:\n",
    "\n",
    "`Ax=b`, where \n",
    "`x`: unitary taxes (_increments_) "
   ]
  },
  {
   "cell_type": "markdown",
   "metadata": {},
   "source": [
    "clearly, we need (N-1) _more_ constraints -- with N = number of tax income sources\n",
    "\n",
    "one way, would be to set the ratio among total incomes -- how much do we want each source to contribute?"
   ]
  },
  {
   "cell_type": "code",
   "execution_count": 17,
   "metadata": {},
   "outputs": [
    {
     "name": "stdout",
     "output_type": "stream",
     "text": [
      "[[ 4.16941000e+05 -3.15957966e+07]\n",
      " [ 4.16941000e+05  3.15957966e+08]]\n",
      "\n",
      "\n",
      "assuming a circ_to_fuel_ratio: 0.1\n",
      "(extra) circulation tax: 27.12 CHF/(y*veh)\n",
      "(extra) fuel tax: 0.358 CHF/l\n"
     ]
    }
   ],
   "source": [
    "circ_to_fuel_ratio = 0.1 # just a N for now\n",
    "\n",
    "total_paybacks = eca_basic_tot + serafe_tot\n",
    "b = np.array([0, total_paybacks])\n",
    "\n",
    "coeff_matrix = np.array(\n",
    "    [[n_cars_vaud, -circ_to_fuel_ratio * litres_km * km_per_vehicle * (n_cars_vaud - n_electric)],\n",
    "     [n_cars_vaud, litres_km * km_per_vehicle * (n_cars_vaud - n_electric)]])\n",
    "print(coeff_matrix)\n",
    "\n",
    "circ_tax, fuel_tax = np.linalg.solve(coeff_matrix, b)\n",
    "\n",
    "print('\\n\\nassuming a circ_to_fuel_ratio:', circ_to_fuel_ratio)\n",
    "print('(extra) circulation tax:', np.round(circ_tax, 3), 'CHF/(y*veh)')\n",
    "print('(extra) fuel tax:', np.round(fuel_tax, 3), 'CHF/l')"
   ]
  },
  {
   "cell_type": "markdown",
   "metadata": {},
   "source": [
    "graphical representation"
   ]
  },
  {
   "cell_type": "code",
   "execution_count": 15,
   "metadata": {},
   "outputs": [],
   "source": [
    "def ratio_eq(fuel_tax):\n",
    "    return (b[0] - coeff_matrix[0, 1] * fuel_tax) / coeff_matrix[0,0]\n",
    "\n",
    "def main_eq(fuel_tax):\n",
    "    return (b[1] - coeff_matrix[1, 1] * fuel_tax) / coeff_matrix[1,0]"
   ]
  },
  {
   "cell_type": "code",
   "execution_count": 18,
   "metadata": {},
   "outputs": [
    {
     "data": {
      "image/png": "[encoded data removed]",
      "text/plain": [
       "<Figure size 432x288 with 1 Axes>"
      ]
     },
     "metadata": {
      "image/png": {
       "height": 267,
       "width": 395
      },
      "needs_background": "light"
     },
     "output_type": "display_data"
    }
   ],
   "source": [
    "x_fuel_tax = np.linspace(0, 0.4)\n",
    "\n",
    "plt.plot(x_fuel_tax, ratio_eq(x_fuel_tax), label='ratio-constraint')\n",
    "plt.plot(x_fuel_tax, main_eq(x_fuel_tax), label='main eq.')\n",
    "plt.legend()\n",
    "\n",
    "plt.xlabel('fuel tax (CHF/l)')\n",
    "plt.ylabel('circ. tax (CHF/(y*veh))');"
   ]
  },
  {
   "cell_type": "code",
   "execution_count": null,
   "metadata": {},
   "outputs": [],
   "source": []
  }
 ],
 "metadata": {
  "kernelspec": {
   "display_name": "Python 3",
   "language": "python",
   "name": "python3"
  },
  "language_info": {
   "codemirror_mode": {
    "name": "ipython",
    "version": 3
   },
   "file_extension": ".py",
   "mimetype": "text/x-python",
   "name": "python",
   "nbconvert_exporter": "python",
   "pygments_lexer": "ipython3",
   "version": "3.7.0"
  },
  "toc": {
   "base_numbering": 1,
   "nav_menu": {},
   "number_sections": false,
   "sideBar": false,
   "skip_h1_title": false,
   "title_cell": "Table of Contents",
   "title_sidebar": "Contents",
   "toc_cell": true,
   "toc_position": {
    "height": "100px",
    "left": "826px",
    "top": "125.4000244140625px",
    "width": "207.8000030517578px"
   },
   "toc_section_display": true,
   "toc_window_display": true
  }
 },
 "nbformat": 4,
 "nbformat_minor": 2
}
